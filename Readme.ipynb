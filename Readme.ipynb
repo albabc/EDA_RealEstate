{
 "cells": [
  {
   "cell_type": "markdown",
   "metadata": {},
   "source": [
    "# REAL ESTATE MARKET\n",
    "## USA 2001-2020"
   ]
  },
  {
   "cell_type": "markdown",
   "metadata": {},
   "source": [
    "Este proyecto pretende analizar el mercado inmoviliario estadounidense durante los 20 años comprendidos entre 2001 y 2020.\n",
    "Fue un periodo marcado por tres grandes momentos: históricos:\n",
    "    1. Crisis .COM y atentados del 11S\n",
    "    2. Crisis de las Subprime\n",
    "    3. Pandemia COVID\n",
    "\n",
    "El análisis se estructura en tres apartados claramente diferenciados."
   ]
  },
  {
   "cell_type": "markdown",
   "metadata": {},
   "source": [
    "### Revisión y limpieza"
   ]
  },
  {
   "cell_type": "markdown",
   "metadata": {},
   "source": [
    "En este apartado se procede a revisar el DF variable a variable. Se revisan que no hayan nulos y que no haya duplicados.\n",
    "\n",
    "Vamos a revisar las variables del DF original:"
   ]
  },
  {
   "cell_type": "markdown",
   "metadata": {},
   "source": [
    "#### Serial Number"
   ]
  },
  {
   "cell_type": "markdown",
   "metadata": {},
   "source": [
    "La variable Serial Number que nos debería servir de indicador único de cada transacción no sirve ya que está repetida en con transacciones distintas."
   ]
  },
  {
   "cell_type": "markdown",
   "metadata": {},
   "source": [
    "#### List Year, Recorded Date y Years until sold"
   ]
  },
  {
   "cell_type": "markdown",
   "metadata": {},
   "source": [
    "Son las tres variables de tiempo originales referentes a la fecha.\n",
    "\n",
    "A estas variables se les añade Redorded Year (extraída del Recorded Date) y Before 2007 (extraída del Recorded Year).\n",
    "\n",
    "Al revisar las variables vemos que hay transacciones publicadas tras su fecha de venta y se deciden eliminar."
   ]
  },
  {
   "cell_type": "markdown",
   "metadata": {},
   "source": [
    "#### Property Type y Residential Type"
   ]
  },
  {
   "cell_type": "markdown",
   "metadata": {},
   "source": [
    "Se procede a limpiar los datos ya que la clasificación original es mejorable y al encontrar datos marginales se decide hacer un grupo de Otros para agruparlos.\n",
    "\n",
    "Importante destacar que hay una cantidad muy significativa, sobre todo previo al 2007, de transacciones donde los inmuebles están sin catalogar. No podemos prescindir de ellos dada su cantidad y su distribución temporal tan irregular.\n",
    "\n",
    "Se crea una única clasificación a un solo nivel: Single Family, Others y Nan."
   ]
  },
  {
   "cell_type": "markdown",
   "metadata": {},
   "source": [
    "#### Town y Address"
   ]
  },
  {
   "cell_type": "markdown",
   "metadata": {},
   "source": [
    "Resulta imposible saber el estado al que corresponden las transacciones ya que en distintos estados existen ciudades homónimas y en distintas ciudades existen calles homónimas.\n",
    "\n",
    "Estas variables se utilizan para detectar duplicados."
   ]
  },
  {
   "cell_type": "markdown",
   "metadata": {},
   "source": [
    "### Fusionado de DFs"
   ]
  },
  {
   "cell_type": "markdown",
   "metadata": {},
   "source": [
    "Fusionamos los datos del mercado inmobiliario con los datos: tipo de interés, inflación y tasa de desempleo."
   ]
  },
  {
   "cell_type": "markdown",
   "metadata": {},
   "source": [
    "### Análisis"
   ]
  },
  {
   "cell_type": "markdown",
   "metadata": {},
   "source": [
    "En este apartado se procede a realizar el analisis univariante de cada variable así como el vibariante y multivariante de las más importantes."
   ]
  }
 ],
 "metadata": {
  "kernelspec": {
   "display_name": "Python 3",
   "language": "python",
   "name": "python3"
  },
  "language_info": {
   "codemirror_mode": {
    "name": "ipython",
    "version": 3
   },
   "file_extension": ".py",
   "mimetype": "text/x-python",
   "name": "python",
   "nbconvert_exporter": "python",
   "pygments_lexer": "ipython3",
   "version": "3.12.0"
  }
 },
 "nbformat": 4,
 "nbformat_minor": 2
}
