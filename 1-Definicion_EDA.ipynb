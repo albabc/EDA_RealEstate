{
 "cells": [
  {
   "cell_type": "markdown",
   "metadata": {},
   "source": [
    "![imagen](./img/ejercicios.png)"
   ]
  },
  {
   "cell_type": "markdown",
   "metadata": {},
   "source": [
    "# INFORMACIÓN DEL PROYECTO"
   ]
  },
  {
   "cell_type": "markdown",
   "metadata": {},
   "source": [
    "### TÍTULO"
   ]
  },
  {
   "cell_type": "code",
   "execution_count": 3,
   "metadata": {},
   "outputs": [],
   "source": [
    "#Escribe el título del proyecto en Markdown\n",
    "titulo = \"Real Estate en USA\""
   ]
  },
  {
   "cell_type": "markdown",
   "metadata": {},
   "source": [
    "### TEMA"
   ]
  },
  {
   "cell_type": "code",
   "execution_count": 4,
   "metadata": {},
   "outputs": [],
   "source": [
    "# Describe brevemente el tema del proyecto en Markdown\n",
    "tema = \"El objetivo principal del EXPLORATORY DATA ANALYSIS es identificar y entender la relación entre el mercado inmobiliario, los tipos de intereses marcados por la Reserva Federal y la tasa de desempleo antes/durante y después de la crisis económica del 2008.\""
   ]
  },
  {
   "cell_type": "markdown",
   "metadata": {},
   "source": [
    "### HIPÓTESIS"
   ]
  },
  {
   "cell_type": "markdown",
   "metadata": {},
   "source": [
    "Define aquí lo que será la hipótesis de tu proyecto.\n",
    "Deberás tener más de una, pero tu proyecto lo harás teniendo una principal hipótesis."
   ]
  },
  {
   "cell_type": "code",
   "execution_count": 5,
   "metadata": {},
   "outputs": [],
   "source": [
    "# Escribe tu hipótesis principal en Markdown\n",
    "hipotesis_1 = \"¿El mercado inmobiliario daba indicios de la burbuja especulativa que se estaba creando durante los años previos a la crisis?\""
   ]
  },
  {
   "cell_type": "code",
   "execution_count": 6,
   "metadata": {},
   "outputs": [],
   "source": [
    "# Escribe más hipótesis si las hubiera en Markdown\n",
    "hipotesis_2 = \"¿Se podrían haber evitado o, al menos, podrían haberse disminuido, los efectos de la crisis a través de políticas económicas?\"\n",
    "hipotesis_3 = \"¿Guardan correlación el mercado inmobiliario con las tasas de desempleo?\"\n",
    "\n"
   ]
  },
  {
   "cell_type": "markdown",
   "metadata": {},
   "source": [
    "## OBTENCIÓN DE LOS DATOS"
   ]
  },
  {
   "cell_type": "markdown",
   "metadata": {},
   "source": [
    "### DATASETS Y FUENTES ALTERNATIVAS DE DATOS"
   ]
  },
  {
   "cell_type": "markdown",
   "metadata": {},
   "source": [
    "Incluye aquí una vista del dataset o datasets de los que partirás para poder evaluar tu hipótesis. <br>\n",
    "También incluye el origen de estos datos y su fuente."
   ]
  },
  {
   "cell_type": "code",
   "execution_count": 10,
   "metadata": {},
   "outputs": [],
   "source": [
    "import pandas as pd\n",
    "# guarda en variables los datasets y su fuente\n",
    "df_1 = pd.read_csv(\"./data/RealEstate_Sales_2001-2020.csv\")\n",
    "# fuente_1 = \"Kaggle\"\n",
    "df_2 = pd.read_excel(\"./data/Rates_2001-2021.xlsx\")\n",
    "# fuente_2 = \"https://datosmacro.expansion.com/tipo-interes/usa\"\n",
    "df_3 = pd.read_excel(\"./data/uscities.xlsx\")\n",
    "# fuente_3 = \"https://simplemaps.com/data/us-cities\"\n"
   ]
  },
  {
   "cell_type": "markdown",
   "metadata": {},
   "source": [
    "Muestra mediante un head() los principales datasets con los que vas a trabajar"
   ]
  },
  {
   "cell_type": "code",
   "execution_count": 11,
   "metadata": {},
   "outputs": [
    {
     "data": {
      "text/html": [
       "<div>\n",
       "<style scoped>\n",
       "    .dataframe tbody tr th:only-of-type {\n",
       "        vertical-align: middle;\n",
       "    }\n",
       "\n",
       "    .dataframe tbody tr th {\n",
       "        vertical-align: top;\n",
       "    }\n",
       "\n",
       "    .dataframe thead th {\n",
       "        text-align: right;\n",
       "    }\n",
       "</style>\n",
       "<table border=\"1\" class=\"dataframe\">\n",
       "  <thead>\n",
       "    <tr style=\"text-align: right;\">\n",
       "      <th></th>\n",
       "      <th>Serial Number</th>\n",
       "      <th>List Year</th>\n",
       "      <th>Date Recorded</th>\n",
       "      <th>Town</th>\n",
       "      <th>Address</th>\n",
       "      <th>Assessed Value</th>\n",
       "      <th>Sale Amount</th>\n",
       "      <th>Sales Ratio</th>\n",
       "      <th>Property Type</th>\n",
       "      <th>Residential Type</th>\n",
       "      <th>Years until sold</th>\n",
       "    </tr>\n",
       "  </thead>\n",
       "  <tbody>\n",
       "    <tr>\n",
       "      <th>0</th>\n",
       "      <td>2020348</td>\n",
       "      <td>2020</td>\n",
       "      <td>9/13/2021</td>\n",
       "      <td>Ansonia</td>\n",
       "      <td>230 WAKELEE AVE</td>\n",
       "      <td>150500</td>\n",
       "      <td>325000.0</td>\n",
       "      <td>0.4630</td>\n",
       "      <td>Commercial</td>\n",
       "      <td>Nan</td>\n",
       "      <td>1</td>\n",
       "    </tr>\n",
       "    <tr>\n",
       "      <th>1</th>\n",
       "      <td>20002</td>\n",
       "      <td>2020</td>\n",
       "      <td>10/2/2020</td>\n",
       "      <td>Ashford</td>\n",
       "      <td>390 TURNPIKE RD</td>\n",
       "      <td>253000</td>\n",
       "      <td>430000.0</td>\n",
       "      <td>0.5883</td>\n",
       "      <td>Residential</td>\n",
       "      <td>Single Family</td>\n",
       "      <td>0</td>\n",
       "    </tr>\n",
       "    <tr>\n",
       "      <th>2</th>\n",
       "      <td>200212</td>\n",
       "      <td>2020</td>\n",
       "      <td>3/9/2021</td>\n",
       "      <td>Avon</td>\n",
       "      <td>5 CHESTNUT DRIVE</td>\n",
       "      <td>130400</td>\n",
       "      <td>179900.0</td>\n",
       "      <td>0.7248</td>\n",
       "      <td>Residential</td>\n",
       "      <td>Condo</td>\n",
       "      <td>1</td>\n",
       "    </tr>\n",
       "    <tr>\n",
       "      <th>3</th>\n",
       "      <td>200243</td>\n",
       "      <td>2020</td>\n",
       "      <td>4/13/2021</td>\n",
       "      <td>Avon</td>\n",
       "      <td>111 NORTHINGTON DRIVE</td>\n",
       "      <td>619290</td>\n",
       "      <td>890000.0</td>\n",
       "      <td>0.6958</td>\n",
       "      <td>Residential</td>\n",
       "      <td>Single Family</td>\n",
       "      <td>1</td>\n",
       "    </tr>\n",
       "    <tr>\n",
       "      <th>4</th>\n",
       "      <td>200377</td>\n",
       "      <td>2020</td>\n",
       "      <td>7/2/2021</td>\n",
       "      <td>Avon</td>\n",
       "      <td>70 FAR HILLS DRIVE</td>\n",
       "      <td>862330</td>\n",
       "      <td>1447500.0</td>\n",
       "      <td>0.5957</td>\n",
       "      <td>Residential</td>\n",
       "      <td>Single Family</td>\n",
       "      <td>1</td>\n",
       "    </tr>\n",
       "  </tbody>\n",
       "</table>\n",
       "</div>"
      ],
      "text/plain": [
       "   Serial Number  List Year Date Recorded     Town                Address  \\\n",
       "0        2020348       2020     9/13/2021  Ansonia        230 WAKELEE AVE   \n",
       "1          20002       2020     10/2/2020  Ashford        390 TURNPIKE RD   \n",
       "2         200212       2020      3/9/2021     Avon       5 CHESTNUT DRIVE   \n",
       "3         200243       2020     4/13/2021     Avon  111 NORTHINGTON DRIVE   \n",
       "4         200377       2020      7/2/2021     Avon     70 FAR HILLS DRIVE   \n",
       "\n",
       "   Assessed Value  Sale Amount  Sales Ratio Property Type Residential Type  \\\n",
       "0          150500     325000.0       0.4630    Commercial              Nan   \n",
       "1          253000     430000.0       0.5883   Residential    Single Family   \n",
       "2          130400     179900.0       0.7248   Residential            Condo   \n",
       "3          619290     890000.0       0.6958   Residential    Single Family   \n",
       "4          862330    1447500.0       0.5957   Residential    Single Family   \n",
       "\n",
       "   Years until sold  \n",
       "0                 1  \n",
       "1                 0  \n",
       "2                 1  \n",
       "3                 1  \n",
       "4                 1  "
      ]
     },
     "execution_count": 11,
     "metadata": {},
     "output_type": "execute_result"
    }
   ],
   "source": [
    "# Primer dataset\n",
    "df_1.head()"
   ]
  },
  {
   "cell_type": "code",
   "execution_count": 12,
   "metadata": {},
   "outputs": [
    {
     "data": {
      "text/html": [
       "<div>\n",
       "<style scoped>\n",
       "    .dataframe tbody tr th:only-of-type {\n",
       "        vertical-align: middle;\n",
       "    }\n",
       "\n",
       "    .dataframe tbody tr th {\n",
       "        vertical-align: top;\n",
       "    }\n",
       "\n",
       "    .dataframe thead th {\n",
       "        text-align: right;\n",
       "    }\n",
       "</style>\n",
       "<table border=\"1\" class=\"dataframe\">\n",
       "  <thead>\n",
       "    <tr style=\"text-align: right;\">\n",
       "      <th></th>\n",
       "      <th>Date</th>\n",
       "      <th>Interest Rate</th>\n",
       "      <th>Inflation</th>\n",
       "      <th>Unemployment</th>\n",
       "    </tr>\n",
       "  </thead>\n",
       "  <tbody>\n",
       "    <tr>\n",
       "      <th>0</th>\n",
       "      <td>2001-01-01</td>\n",
       "      <td>0.065</td>\n",
       "      <td>0.028262</td>\n",
       "      <td>0.0473</td>\n",
       "    </tr>\n",
       "    <tr>\n",
       "      <th>1</th>\n",
       "      <td>2001-01-02</td>\n",
       "      <td>0.065</td>\n",
       "      <td>0.028262</td>\n",
       "      <td>0.0473</td>\n",
       "    </tr>\n",
       "    <tr>\n",
       "      <th>2</th>\n",
       "      <td>2001-01-03</td>\n",
       "      <td>0.060</td>\n",
       "      <td>0.028262</td>\n",
       "      <td>0.0473</td>\n",
       "    </tr>\n",
       "    <tr>\n",
       "      <th>3</th>\n",
       "      <td>2001-01-04</td>\n",
       "      <td>0.060</td>\n",
       "      <td>0.028262</td>\n",
       "      <td>0.0473</td>\n",
       "    </tr>\n",
       "    <tr>\n",
       "      <th>4</th>\n",
       "      <td>2001-01-05</td>\n",
       "      <td>0.060</td>\n",
       "      <td>0.028262</td>\n",
       "      <td>0.0473</td>\n",
       "    </tr>\n",
       "  </tbody>\n",
       "</table>\n",
       "</div>"
      ],
      "text/plain": [
       "        Date  Interest Rate  Inflation  Unemployment\n",
       "0 2001-01-01          0.065   0.028262        0.0473\n",
       "1 2001-01-02          0.065   0.028262        0.0473\n",
       "2 2001-01-03          0.060   0.028262        0.0473\n",
       "3 2001-01-04          0.060   0.028262        0.0473\n",
       "4 2001-01-05          0.060   0.028262        0.0473"
      ]
     },
     "execution_count": 12,
     "metadata": {},
     "output_type": "execute_result"
    }
   ],
   "source": [
    "# Segundo dataset con los tipos de interés, inflación anual y tasa de desempleo.\n",
    "df_2.head()"
   ]
  },
  {
   "cell_type": "code",
   "execution_count": 14,
   "metadata": {},
   "outputs": [
    {
     "data": {
      "text/html": [
       "<div>\n",
       "<style scoped>\n",
       "    .dataframe tbody tr th:only-of-type {\n",
       "        vertical-align: middle;\n",
       "    }\n",
       "\n",
       "    .dataframe tbody tr th {\n",
       "        vertical-align: top;\n",
       "    }\n",
       "\n",
       "    .dataframe thead th {\n",
       "        text-align: right;\n",
       "    }\n",
       "</style>\n",
       "<table border=\"1\" class=\"dataframe\">\n",
       "  <thead>\n",
       "    <tr style=\"text-align: right;\">\n",
       "      <th></th>\n",
       "      <th>city</th>\n",
       "      <th>city_ascii</th>\n",
       "      <th>state_id</th>\n",
       "      <th>state_name</th>\n",
       "      <th>county_fips</th>\n",
       "      <th>county_name</th>\n",
       "      <th>lat</th>\n",
       "      <th>lng</th>\n",
       "      <th>population</th>\n",
       "      <th>density</th>\n",
       "      <th>source</th>\n",
       "      <th>military</th>\n",
       "      <th>incorporated</th>\n",
       "      <th>timezone</th>\n",
       "      <th>ranking</th>\n",
       "      <th>zips</th>\n",
       "      <th>id</th>\n",
       "    </tr>\n",
       "  </thead>\n",
       "  <tbody>\n",
       "    <tr>\n",
       "      <th>0</th>\n",
       "      <td>New York</td>\n",
       "      <td>New York</td>\n",
       "      <td>NY</td>\n",
       "      <td>New York</td>\n",
       "      <td>36081</td>\n",
       "      <td>Queens</td>\n",
       "      <td>40.6943</td>\n",
       "      <td>-73.9249</td>\n",
       "      <td>18908608</td>\n",
       "      <td>11226.2</td>\n",
       "      <td>shape</td>\n",
       "      <td>False</td>\n",
       "      <td>True</td>\n",
       "      <td>America/New_York</td>\n",
       "      <td>1</td>\n",
       "      <td>11229 11228 11226 11225 11224 11222 11221 1122...</td>\n",
       "      <td>1840034016</td>\n",
       "    </tr>\n",
       "    <tr>\n",
       "      <th>1</th>\n",
       "      <td>Los Angeles</td>\n",
       "      <td>Los Angeles</td>\n",
       "      <td>CA</td>\n",
       "      <td>California</td>\n",
       "      <td>6037</td>\n",
       "      <td>Los Angeles</td>\n",
       "      <td>34.1141</td>\n",
       "      <td>-118.4068</td>\n",
       "      <td>11922389</td>\n",
       "      <td>3202.3</td>\n",
       "      <td>shape</td>\n",
       "      <td>False</td>\n",
       "      <td>True</td>\n",
       "      <td>America/Los_Angeles</td>\n",
       "      <td>1</td>\n",
       "      <td>91367 90291 90293 90292 91316 91311 90035 9003...</td>\n",
       "      <td>1840020491</td>\n",
       "    </tr>\n",
       "    <tr>\n",
       "      <th>2</th>\n",
       "      <td>Chicago</td>\n",
       "      <td>Chicago</td>\n",
       "      <td>IL</td>\n",
       "      <td>Illinois</td>\n",
       "      <td>17031</td>\n",
       "      <td>Cook</td>\n",
       "      <td>41.8375</td>\n",
       "      <td>-87.6866</td>\n",
       "      <td>8497759</td>\n",
       "      <td>4648.7</td>\n",
       "      <td>shape</td>\n",
       "      <td>False</td>\n",
       "      <td>True</td>\n",
       "      <td>America/Chicago</td>\n",
       "      <td>1</td>\n",
       "      <td>60018 60649 60641 60640 60643 60642 60645 6064...</td>\n",
       "      <td>1840000494</td>\n",
       "    </tr>\n",
       "    <tr>\n",
       "      <th>3</th>\n",
       "      <td>Miami</td>\n",
       "      <td>Miami</td>\n",
       "      <td>FL</td>\n",
       "      <td>Florida</td>\n",
       "      <td>12086</td>\n",
       "      <td>Miami-Dade</td>\n",
       "      <td>25.7840</td>\n",
       "      <td>-80.2101</td>\n",
       "      <td>6080145</td>\n",
       "      <td>4728.2</td>\n",
       "      <td>shape</td>\n",
       "      <td>False</td>\n",
       "      <td>True</td>\n",
       "      <td>America/New_York</td>\n",
       "      <td>1</td>\n",
       "      <td>33128 33129 33125 33126 33127 33149 33144 3314...</td>\n",
       "      <td>1840015149</td>\n",
       "    </tr>\n",
       "    <tr>\n",
       "      <th>4</th>\n",
       "      <td>Houston</td>\n",
       "      <td>Houston</td>\n",
       "      <td>TX</td>\n",
       "      <td>Texas</td>\n",
       "      <td>48201</td>\n",
       "      <td>Harris</td>\n",
       "      <td>29.7860</td>\n",
       "      <td>-95.3885</td>\n",
       "      <td>5970127</td>\n",
       "      <td>1382.2</td>\n",
       "      <td>shape</td>\n",
       "      <td>False</td>\n",
       "      <td>True</td>\n",
       "      <td>America/Chicago</td>\n",
       "      <td>1</td>\n",
       "      <td>77069 77068 77061 77060 77063 77062 77065 7706...</td>\n",
       "      <td>1840020925</td>\n",
       "    </tr>\n",
       "  </tbody>\n",
       "</table>\n",
       "</div>"
      ],
      "text/plain": [
       "          city   city_ascii state_id  state_name  county_fips  county_name  \\\n",
       "0     New York     New York       NY    New York        36081       Queens   \n",
       "1  Los Angeles  Los Angeles       CA  California         6037  Los Angeles   \n",
       "2      Chicago      Chicago       IL    Illinois        17031         Cook   \n",
       "3        Miami        Miami       FL     Florida        12086   Miami-Dade   \n",
       "4      Houston      Houston       TX       Texas        48201       Harris   \n",
       "\n",
       "       lat       lng  population  density source  military  incorporated  \\\n",
       "0  40.6943  -73.9249    18908608  11226.2  shape     False          True   \n",
       "1  34.1141 -118.4068    11922389   3202.3  shape     False          True   \n",
       "2  41.8375  -87.6866     8497759   4648.7  shape     False          True   \n",
       "3  25.7840  -80.2101     6080145   4728.2  shape     False          True   \n",
       "4  29.7860  -95.3885     5970127   1382.2  shape     False          True   \n",
       "\n",
       "              timezone  ranking  \\\n",
       "0     America/New_York        1   \n",
       "1  America/Los_Angeles        1   \n",
       "2      America/Chicago        1   \n",
       "3     America/New_York        1   \n",
       "4      America/Chicago        1   \n",
       "\n",
       "                                                zips          id  \n",
       "0  11229 11228 11226 11225 11224 11222 11221 1122...  1840034016  \n",
       "1  91367 90291 90293 90292 91316 91311 90035 9003...  1840020491  \n",
       "2  60018 60649 60641 60640 60643 60642 60645 6064...  1840000494  \n",
       "3  33128 33129 33125 33126 33127 33149 33144 3314...  1840015149  \n",
       "4  77069 77068 77061 77060 77063 77062 77065 7706...  1840020925  "
      ]
     },
     "execution_count": 14,
     "metadata": {},
     "output_type": "execute_result"
    }
   ],
   "source": [
    "# Tercer dataset con las ciudades pertenecientes a cada estado.\n",
    "df_3.head()"
   ]
  }
 ],
 "metadata": {
  "kernelspec": {
   "display_name": "Python 3.7.4 64-bit",
   "language": "python",
   "name": "python3"
  },
  "language_info": {
   "codemirror_mode": {
    "name": "ipython",
    "version": 3
   },
   "file_extension": ".py",
   "mimetype": "text/x-python",
   "name": "python",
   "nbconvert_exporter": "python",
   "pygments_lexer": "ipython3",
   "version": "3.12.0"
  },
  "orig_nbformat": 4,
  "vscode": {
   "interpreter": {
    "hash": "90139cb9a825bf3d63f6f6704e828dbd1ff7edbd4d0c6e906a71235d6efc74af"
   }
  }
 },
 "nbformat": 4,
 "nbformat_minor": 2
}
